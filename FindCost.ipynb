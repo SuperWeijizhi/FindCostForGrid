{
 "cells": [
  {
   "cell_type": "code",
   "execution_count": 38,
   "metadata": {},
   "outputs": [],
   "source": [
    "import numpy as np\n",
    "import pandas as pd\n",
    "import os\n",
    "import openpyxl\n",
    "import random"
   ]
  },
  {
   "cell_type": "code",
   "execution_count": 18,
   "metadata": {},
   "outputs": [
    {
     "name": "stdout",
     "output_type": "stream",
     "text": [
      "H:\\Mycode\\cost\\exe.xlsx H:\\Mycode\\cost\\cost_new.xlsx\n"
     ]
    }
   ],
   "source": [
    "path = \"H:\\Mycode\\cost\"\n",
    "fn1 = \"exe.xlsx\"\n",
    "fn2 = \"cost_new.xlsx\"\n",
    "io1 = os.path.join(path,fn1)\n",
    "io2 = os.path.join(path,fn2)\n",
    "print(io1,io2)"
   ]
  },
  {
   "cell_type": "code",
   "execution_count": 41,
   "metadata": {},
   "outputs": [
    {
     "name": "stdout",
     "output_type": "stream",
     "text": [
      "0       810.424365\n",
      "1       764.256792\n",
      "2       711.435173\n",
      "3       480.935541\n",
      "4       544.796265\n",
      "          ...     \n",
      "163    1020.752004\n",
      "164     978.898459\n",
      "165     871.967641\n",
      "166     852.638312\n",
      "167     450.771823\n",
      "Length: 168, dtype: float64\n",
      "19\n"
     ]
    }
   ],
   "source": [
    "if os.path.exists(io1)==True:\n",
    "    wb = openpyxl.load_workbook(io1) #load the xlsx file\n",
    "    ws = wb.worksheets[0] # load the 1st sheet\n",
    "    \n",
    "    ws.insert_cols(idx=16)\n",
    "    for index, row in enumerate(ws.rows):\n",
    "        if index == 0:\n",
    "            row[15].value = 'InstantPower'\n",
    "        else:\n",
    "            row[15].value = random.uniform(10,20)\n",
    "    wb.save(io2)\n",
    "    df = pd.read_excel(io2)\n",
    "    sig_price = df[\"alpha\"] # get the instant price\n",
    "    sig_power = df[\"InstantPower\"]\n",
    "    sig_cost = sig_power*sig_price\n",
    "    print(sig_cost)"
   ]
  }
 ],
 "metadata": {
  "interpreter": {
   "hash": "0df0ab8b8e3d7153797cb86a5e3dad051cc4c78b3b494fcd1f79beb4f8606e8f"
  },
  "kernelspec": {
   "display_name": "Python 3.9.7 ('base')",
   "language": "python",
   "name": "python3"
  },
  "language_info": {
   "codemirror_mode": {
    "name": "ipython",
    "version": 3
   },
   "file_extension": ".py",
   "mimetype": "text/x-python",
   "name": "python",
   "nbconvert_exporter": "python",
   "pygments_lexer": "ipython3",
   "version": "3.9.7"
  },
  "orig_nbformat": 4
 },
 "nbformat": 4,
 "nbformat_minor": 2
}
